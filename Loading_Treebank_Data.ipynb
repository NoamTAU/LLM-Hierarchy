{
 "cells": [
  {
   "cell_type": "markdown",
   "id": "ee1887a2-210d-4f4d-ab02-4437a8438c4c",
   "metadata": {},
   "source": [
    "## Download the parsed treebank dataset (only 10% of the full version - which costs money), has 100675 tagged words. \n",
    "## The Brown Corpus is annotated with part-of-speech tags"
   ]
  },
  {
   "cell_type": "code",
   "execution_count": 29,
   "id": "0e86a867-e30a-4252-b6e5-2fa2ddc8aeeb",
   "metadata": {},
   "outputs": [
    {
     "name": "stderr",
     "output_type": "stream",
     "text": [
      "[nltk_data] Downloading package treebank to /home/nlevi/nltk_data...\n",
      "[nltk_data]   Package treebank is already up-to-date!\n",
      "[nltk_data] Downloading package brown to /home/nlevi/nltk_data...\n",
      "[nltk_data]   Package brown is already up-to-date!\n"
     ]
    },
    {
     "data": {
      "text/plain": [
       "True"
      ]
     },
     "execution_count": 29,
     "metadata": {},
     "output_type": "execute_result"
    }
   ],
   "source": [
    "import nltk\n",
    "\n",
    "nltk.download('treebank')\n",
    "nltk.download('brown')\n"
   ]
  },
  {
   "cell_type": "code",
   "execution_count": 109,
   "id": "24f28941-e539-447c-97fa-e90f0c0df8c7",
   "metadata": {},
   "outputs": [
    {
     "name": "stdout",
     "output_type": "stream",
     "text": [
      "['Pierre', 'Vinken', ',', '61', 'years', 'old', ',', 'will', 'join', 'the', 'board', 'as', 'a', 'nonexecutive', 'director', 'Nov.', '29', '.', 'Mr.', 'Vinken', 'is', 'chairman', 'of', 'Elsevier', 'N.V.', ',', 'the', 'Dutch', 'publishing', 'group', '.', 'Rudolph', 'Agnew', ',', '55', 'years', 'old', 'and', 'former', 'chairman', 'of', 'Consolidated', 'Gold', 'Fields', 'PLC', ',', 'was', 'named', '*-1', 'a', 'nonexecutive', 'director', 'of', 'this', 'British', 'industrial', 'conglomerate', '.', 'A', 'form']\n"
     ]
    }
   ],
   "source": [
    "from nltk.corpus import treebank\n",
    "print(treebank.words()[0:60])\n",
    "# len(treebank.words()[:-1])/100"
   ]
  },
  {
   "cell_type": "code",
   "execution_count": 110,
   "id": "4512ee91-246a-42de-b6a4-91d53eea0d1f",
   "metadata": {},
   "outputs": [
    {
     "name": "stdout",
     "output_type": "stream",
     "text": [
      "['wsj_0001.mrg', 'wsj_0002.mrg', 'wsj_0003.mrg', 'wsj_0004.mrg', 'wsj_0005.mrg', 'wsj_0006.mrg', 'wsj_0007.mrg', 'wsj_0008.mrg', 'wsj_0009.mrg', 'wsj_0010.mrg']\n",
      "['A', 'form', 'of', 'asbestos', 'once', 'used', '*', ...]\n",
      "[('A', 'DT'), ('form', 'NN'), ('of', 'IN'), ...]\n",
      "(S\n",
      "  (S-TPC-1\n",
      "    (NP-SBJ\n",
      "      (NP (NP (DT A) (NN form)) (PP (IN of) (NP (NN asbestos))))\n",
      "      (RRC\n",
      "        (ADVP-TMP (RB once))\n",
      "        (VP\n",
      "          (VBN used)\n",
      "          (NP (-NONE- *))\n",
      "          (S-CLR\n",
      "            (NP-SBJ (-NONE- *))\n",
      "            (VP\n",
      "              (TO to)\n",
      "              (VP\n",
      "                (VB make)\n",
      "                (NP (NNP Kent) (NN cigarette) (NNS filters))))))))\n",
      "    (VP\n",
      "      (VBZ has)\n",
      "      (VP\n",
      "        (VBN caused)\n",
      "        (NP\n",
      "          (NP (DT a) (JJ high) (NN percentage))\n",
      "          (PP (IN of) (NP (NN cancer) (NNS deaths)))\n",
      "          (PP-LOC\n",
      "            (IN among)\n",
      "            (NP\n",
      "              (NP (DT a) (NN group))\n",
      "              (PP\n",
      "                (IN of)\n",
      "                (NP\n",
      "                  (NP (NNS workers))\n",
      "                  (RRC\n",
      "                    (VP\n",
      "                      (VBN exposed)\n",
      "                      (NP (-NONE- *))\n",
      "                      (PP-CLR (TO to) (NP (PRP it)))\n",
      "                      (ADVP-TMP\n",
      "                        (NP\n",
      "                          (QP (RBR more) (IN than) (CD 30))\n",
      "                          (NNS years))\n",
      "                        (IN ago))))))))))))\n",
      "  (, ,)\n",
      "  (NP-SBJ (NNS researchers))\n",
      "  (VP (VBD reported) (SBAR (-NONE- 0) (S (-NONE- *T*-1))))\n",
      "  (. .))\n"
     ]
    }
   ],
   "source": [
    "from nltk.corpus import treebank\n",
    "print(treebank.fileids()[:10])\n",
    "print(treebank.words('wsj_0003.mrg'))\n",
    "print(treebank.tagged_words('wsj_0003.mrg'))\n",
    "print(treebank.parsed_sents('wsj_0003.mrg')[0])"
   ]
  },
  {
   "cell_type": "markdown",
   "id": "d94f41e5-ee4d-4424-b96e-c783d617c127",
   "metadata": {},
   "source": [
    "### Remove unwanted * notations and words"
   ]
  },
  {
   "cell_type": "code",
   "execution_count": 138,
   "id": "d92223c8-d1d5-4d3e-8f6a-d44eae27257e",
   "metadata": {},
   "outputs": [
    {
     "name": "stdout",
     "output_type": "stream",
     "text": [
      "Filtered words: ['Pierre', 'Vinken', ',', '61', 'years', 'old', ',', 'will', 'join', 'the']\n",
      "Filtered tags: ['NNP', 'NNP', ',', 'CD', 'NNS', 'JJ', ',', 'MD', 'VB', 'DT']\n",
      "Length check: 0.000000\n"
     ]
    }
   ],
   "source": [
    "words = (treebank.tagged_words()[:-1])\n",
    "\n",
    "# Step 1: Identify and store the indices of the elements that need to be removed\n",
    "indices_to_remove = [i for i, (word, tag) in enumerate(words) if word.startswith('*') or word.endswith('*')]\n",
    "\n",
    "# Step 2: Remove the elements from the original list\n",
    "filtered_tagged_words = [word for i, word in enumerate(words) if i not in indices_to_remove]\n",
    "\n",
    "# Step 3: Extract the tags from the original list\n",
    "single_words = [word[0] for word in words]\n",
    "tags = [word[1] for word in words]\n",
    "\n",
    "# Step 4: Remove the corresponding tags using the stored indices\n",
    "filtered_tags = [tag for i, tag in enumerate(tags) if i not in indices_to_remove]\n",
    "filtered_words = [word for i, word in enumerate(single_words) if i not in indices_to_remove]\n",
    "\n",
    "# Print the results\n",
    "print(\"Filtered words:\", filtered_words[:10])\n",
    "print(\"Filtered tags:\", filtered_tags[:10])\n",
    "\n",
    "print('Length check: %f' % (len(filtered_words) - len(filtered_tags)))"
   ]
  },
  {
   "cell_type": "code",
   "execution_count": 145,
   "id": "b84df0c3-f79b-4ce3-846b-0077ade2b590",
   "metadata": {
    "scrolled": true
   },
   "outputs": [
    {
     "name": "stdout",
     "output_type": "stream",
     "text": [
      "Pierre Vinken , 61 years old , will join the board as a nonexecutive director Nov. 29 . Mr. Vinken is chairman of Elsevier N.V. , the Dutch publishing group . Rudolph Agnew , 55 years old and former chairman of Consolidated Gold Fields PLC , was named a nonexecutive\n",
      "NNP NNP , CD NNS JJ , MD VB DT NN IN DT JJ NN NNP CD . NNP NNP VBZ NN IN NNP NNP , DT NNP VBG NN . NNP NNP , CD NNS JJ CC JJ NN IN NNP NNP NNP NNP , VBD VBN DT JJ\n"
     ]
    }
   ],
   "source": [
    "sentence = ' '.join(filtered_words[:50])\n",
    "print(sentence)\n",
    "tag_sentence = ' '.join(filtered_tags[:50])\n",
    "print(tag_sentence)"
   ]
  },
  {
   "cell_type": "markdown",
   "id": "07a49469-d8df-4bcf-8a61-5a6f6d3e1512",
   "metadata": {},
   "source": [
    "## Given the set of filtered words, we can now use them as a dataset, with whatever split we like."
   ]
  },
  {
   "cell_type": "code",
   "execution_count": 146,
   "id": "c788a224-47eb-4be0-93ce-992f2bdbbd05",
   "metadata": {},
   "outputs": [
    {
     "data": {
      "text/plain": [
       "95182"
      ]
     },
     "execution_count": 146,
     "metadata": {},
     "output_type": "execute_result"
    }
   ],
   "source": [
    "len(filtered_words)"
   ]
  },
  {
   "cell_type": "code",
   "execution_count": 149,
   "id": "c597d46d-8b1b-485f-867e-5f526d8fe1b7",
   "metadata": {},
   "outputs": [
    {
     "name": "stdout",
     "output_type": "stream",
     "text": [
      "Sentence 1: Pierre Vinken , 61 years old , will join the board as a nonexecutive director Nov. 29 . Mr. Vinken is chairman of Elsevier N.V. , the Dutch publishing group . Rudolph Agnew , 55 years old and former chairman of Consolidated Gold Fields PLC , was named a nonexecutive director of this British industrial conglomerate . A form of asbestos once used to make Kent cigarette filters has caused a high percentage of cancer deaths among a group of workers exposed to it more than 30 years ago , researchers reported 0 . The asbestos fiber , crocidolite ,\n",
      "Sentence 2: is unusually resilient once it enters the lungs , with even brief exposures to it causing symptoms that show up decades later , researchers said 0 . Lorillard Inc. , the unit of New York-based Loews Corp. that makes Kent cigarettes , stopped using crocidolite in its Micronite cigarette filters in 1956 . Although preliminary findings were reported more than a year ago , the latest results appear in today 's New England Journal of Medicine , a forum likely to bring new attention to the problem . A Lorillard spokewoman said , `` This is an old story .\n"
     ]
    }
   ],
   "source": [
    "# Function to split the list into chunks of 100 words\n",
    "def split_into_sentences(words, chunk_size=100):\n",
    "    sentences = []\n",
    "    for i in range(0, len(words), chunk_size):\n",
    "        sentences.append(words[i:i + chunk_size])\n",
    "    return sentences\n",
    "\n",
    "# Split the filtered words into sentences of 100 words each\n",
    "sentences = split_into_sentences(filtered_words)\n",
    "\n",
    "# Print the sentences\n",
    "for i, sentence in enumerate(sentences[:2]):\n",
    "    print(f\"Sentence {i + 1}: {' '.join(sentence)}\")"
   ]
  },
  {
   "cell_type": "code",
   "execution_count": 153,
   "id": "ace67902-72b6-47ea-a00c-7e4c6adb6768",
   "metadata": {},
   "outputs": [
    {
     "data": {
      "text/plain": [
       "'Pierre Vinken , 61 years old , will join the board as a nonexecutive director Nov. 29 . Mr. Vinken is chairman of Elsevier N.V. , the Dutch publishing group . Rudolph Agnew , 55 years old and former chairman of Consolidated Gold Fields PLC , was named a nonexecutive director of this British industrial conglomerate . A form of asbestos once used to make Kent cigarette filters has caused a high percentage of cancer deaths among a group of workers exposed to it more than 30 years ago , researchers reported 0 . The asbestos fiber , crocidolite ,'"
      ]
     },
     "execution_count": 153,
     "metadata": {},
     "output_type": "execute_result"
    }
   ],
   "source": [
    "' '.join(sentences[0])"
   ]
  },
  {
   "cell_type": "code",
   "execution_count": null,
   "id": "ec370008-79bb-4ffc-945b-bd50cc31e478",
   "metadata": {},
   "outputs": [],
   "source": []
  }
 ],
 "metadata": {
  "kernelspec": {
   "display_name": "Python 3 (ipykernel)",
   "language": "python",
   "name": "python3"
  },
  "language_info": {
   "codemirror_mode": {
    "name": "ipython",
    "version": 3
   },
   "file_extension": ".py",
   "mimetype": "text/x-python",
   "name": "python",
   "nbconvert_exporter": "python",
   "pygments_lexer": "ipython3",
   "version": "3.12.4"
  }
 },
 "nbformat": 4,
 "nbformat_minor": 5
}
